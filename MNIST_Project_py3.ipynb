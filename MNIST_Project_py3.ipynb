{
 "cells": [
  {
   "cell_type": "code",
   "execution_count": 1,
   "metadata": {},
   "outputs": [],
   "source": [
    "import numpy as np\n",
    "%matplotlib inline\n",
    "import matplotlib.pyplot as plt"
   ]
  },
  {
   "cell_type": "code",
   "execution_count": 2,
   "metadata": {},
   "outputs": [],
   "source": [
    "import gzip,pickle"
   ]
  },
  {
   "cell_type": "code",
   "execution_count": 99,
   "metadata": {},
   "outputs": [],
   "source": [
    "import pandas as pd\n",
    "from keras.utils.np_utils import to_categorical"
   ]
  },
  {
   "cell_type": "code",
   "execution_count": 3,
   "metadata": {},
   "outputs": [],
   "source": [
    "import matplotlib"
   ]
  },
  {
   "cell_type": "code",
   "execution_count": 4,
   "metadata": {},
   "outputs": [
    {
     "name": "stdout",
     "output_type": "stream",
     "text": [
      "Trying to run under a GPU.  If this is not desired, then modify network3.py\n",
      "to set the GPU flag to False.\n"
     ]
    }
   ],
   "source": [
    "import theano\n",
    "import theano.tensor as T\n",
    "import net3\n",
    "#from net3 import sigmoid, tanh, ReLU, Network\n",
    "#from net3 import ConvPoolLayer, FullyConnectedLayer, SoftmaxLayer"
   ]
  },
  {
   "cell_type": "code",
   "execution_count": 5,
   "metadata": {},
   "outputs": [],
   "source": [
    "mini_batch_size=10\n",
    "learning_rate=0.1"
   ]
  },
  {
   "cell_type": "code",
   "execution_count": 33,
   "metadata": {},
   "outputs": [
    {
     "name": "stderr",
     "output_type": "stream",
     "text": [
      "Using Theano backend.\n"
     ]
    }
   ],
   "source": [
    "from keras.models import Sequential\n",
    "from keras.layers import Dense, Dropout, Flatten, Conv2D, MaxPool2D, AvgPool2D, BatchNormalization, Reshape\n",
    "from keras.preprocessing.image import ImageDataGenerator\n",
    "from keras.callbacks import LearningRateScheduler"
   ]
  },
  {
   "cell_type": "code",
   "execution_count": 191,
   "metadata": {},
   "outputs": [],
   "source": [
    "#code has been adopted from Micheal Neilsen (with some modifications): see detailed reference below\n",
    "def vectorized_result(j):\n",
    "    ##Return a 10-dimensional unit vector with a 1.0 in the jth\n",
    "    ##position and zeroes elsewhere.  This is used to convert a digit\n",
    "    ##(0...9) into a corresponding desired output from the neural network\n",
    "    e = np.zeros((10, 1))\n",
    "    e[j] = 1.0\n",
    "    return e\n",
    "\n",
    "def load_data():\n",
    "    ##Return the MNIST data as a tuple containing the training data,\n",
    "    ##the validation data, and the test data.\n",
    "\n",
    "    f = gzip.open('./data/mnist.pkl.gz', 'rb')\n",
    "    training_data, validation_data, test_data = pickle.load(f,encoding='latin1')\n",
    "    f.close()\n",
    "    return (training_data, validation_data, test_data)\n",
    "\n",
    "\n",
    "def load_data_wrapper():\n",
    "    ##Return a tuple containing ``(training_data, validation_data,\n",
    "    ##test_data)``. Based on ``load_data``, but the format is more\n",
    "    ##convenient for use in our implementation of neural networks.\n",
    "\n",
    "    tr_d, va_d, te_d = load_data()\n",
    "    training_inputs = [np.reshape(x, (28,28,1)) for x in tr_d[0]]\n",
    "    #training_results = [vectorized_result(y) for y in tr_d[1]]\n",
    "    training_data = zip(training_inputs, tr_d[1])\n",
    "    validation_inputs = [np.reshape(x, (28,28,1)) for x in va_d[0]]\n",
    "    #validation_results=[vectorized_result(y) for y in va_d[1]]\n",
    "    validation_data = zip(validation_inputs, va_d[1])\n",
    "    test_inputs = [np.reshape(x, (28,28,1)) for x in te_d[0]]\n",
    "    #test_results = [vectorized_result(y) for y in te_d[1]]\n",
    "    test_data = zip(test_inputs, te_d[1])\n",
    "    return (list(training_data), list(validation_data), list(test_data))"
   ]
  },
  {
   "cell_type": "code",
   "execution_count": 192,
   "metadata": {},
   "outputs": [],
   "source": [
    "train,val,test=load_data_wrapper()"
   ]
  },
  {
   "cell_type": "code",
   "execution_count": 108,
   "metadata": {},
   "outputs": [
    {
     "data": {
      "text/plain": [
       "list"
      ]
     },
     "execution_count": 108,
     "metadata": {},
     "output_type": "execute_result"
    }
   ],
   "source": [
    "type(train)"
   ]
  },
  {
   "cell_type": "code",
   "execution_count": 109,
   "metadata": {},
   "outputs": [
    {
     "data": {
      "text/plain": [
       "10000"
      ]
     },
     "execution_count": 109,
     "metadata": {},
     "output_type": "execute_result"
    }
   ],
   "source": [
    "len(val)"
   ]
  },
  {
   "cell_type": "code",
   "execution_count": 110,
   "metadata": {},
   "outputs": [
    {
     "data": {
      "text/plain": [
       "50000"
      ]
     },
     "execution_count": 110,
     "metadata": {},
     "output_type": "execute_result"
    }
   ],
   "source": [
    "len(train)"
   ]
  },
  {
   "cell_type": "code",
   "execution_count": 111,
   "metadata": {},
   "outputs": [
    {
     "data": {
      "text/plain": [
       "10000"
      ]
     },
     "execution_count": 111,
     "metadata": {},
     "output_type": "execute_result"
    }
   ],
   "source": [
    "len(test)"
   ]
  },
  {
   "cell_type": "code",
   "execution_count": 112,
   "metadata": {},
   "outputs": [
    {
     "data": {
      "text/plain": [
       "(28, 28, 1)"
      ]
     },
     "execution_count": 112,
     "metadata": {},
     "output_type": "execute_result"
    }
   ],
   "source": [
    "train[1][0].shape"
   ]
  },
  {
   "cell_type": "code",
   "execution_count": 85,
   "metadata": {},
   "outputs": [
    {
     "data": {
      "text/plain": [
       "(28, 28)"
      ]
     },
     "execution_count": 85,
     "metadata": {},
     "output_type": "execute_result"
    }
   ],
   "source": [
    "train[0][0].reshape(-1,28).shape"
   ]
  },
  {
   "cell_type": "code",
   "execution_count": 16,
   "metadata": {},
   "outputs": [
    {
     "name": "stdout",
     "output_type": "stream",
     "text": [
      "[[0.         0.         0.         0.         0.         0.\n",
      "  0.         0.         0.         0.         0.         0.\n",
      "  0.         0.         0.         0.         0.         0.\n",
      "  0.         0.         0.         0.         0.         0.\n",
      "  0.         0.         0.         0.        ]\n",
      " [0.         0.         0.         0.         0.         0.\n",
      "  0.         0.         0.         0.         0.         0.\n",
      "  0.         0.         0.         0.         0.         0.\n",
      "  0.         0.         0.         0.         0.         0.\n",
      "  0.         0.         0.         0.        ]\n",
      " [0.         0.         0.         0.         0.         0.\n",
      "  0.         0.         0.         0.         0.         0.\n",
      "  0.         0.         0.         0.         0.         0.\n",
      "  0.         0.         0.         0.         0.         0.\n",
      "  0.         0.         0.         0.        ]\n",
      " [0.         0.         0.         0.         0.         0.\n",
      "  0.         0.         0.         0.         0.         0.\n",
      "  0.         0.         0.         0.         0.         0.\n",
      "  0.         0.         0.         0.         0.         0.\n",
      "  0.         0.         0.         0.        ]\n",
      " [0.         0.         0.         0.         0.         0.\n",
      "  0.         0.         0.         0.         0.         0.\n",
      "  0.         0.         0.         0.         0.         0.\n",
      "  0.         0.         0.         0.         0.         0.21484375\n",
      "  0.53125    0.         0.         0.        ]\n",
      " [0.         0.         0.         0.         0.         0.\n",
      "  0.         0.         0.         0.         0.         0.\n",
      "  0.         0.         0.         0.         0.         0.\n",
      "  0.         0.         0.         0.         0.         0.671875\n",
      "  0.98828125 0.         0.         0.        ]\n",
      " [0.         0.         0.         0.         0.         0.\n",
      "  0.         0.         0.         0.         0.         0.\n",
      "  0.         0.         0.         0.         0.         0.\n",
      "  0.         0.         0.         0.         0.0703125  0.8828125\n",
      "  0.98828125 0.         0.         0.        ]\n",
      " [0.         0.         0.         0.         0.         0.\n",
      "  0.         0.19140625 0.0703125  0.         0.         0.\n",
      "  0.         0.         0.         0.         0.         0.\n",
      "  0.         0.         0.         0.         0.66796875 0.98828125\n",
      "  0.98828125 0.         0.         0.        ]\n",
      " [0.         0.         0.         0.         0.         0.\n",
      "  0.1171875  0.9296875  0.85546875 0.3125     0.         0.\n",
      "  0.         0.         0.         0.         0.         0.\n",
      "  0.         0.         0.         0.08984375 0.85546875 0.98828125\n",
      "  0.828125   0.         0.         0.        ]\n",
      " [0.         0.         0.         0.         0.         0.\n",
      "  0.140625   0.98828125 0.98828125 0.609375   0.0546875  0.\n",
      "  0.         0.         0.         0.         0.         0.\n",
      "  0.         0.         0.         0.2578125  0.98828125 0.98828125\n",
      "  0.52734375 0.         0.         0.        ]\n",
      " [0.         0.         0.         0.         0.         0.\n",
      "  0.3671875  0.98828125 0.98828125 0.41796875 0.00390625 0.\n",
      "  0.         0.         0.         0.         0.         0.\n",
      "  0.         0.         0.09375    0.83203125 0.98828125 0.98828125\n",
      "  0.515625   0.         0.         0.        ]\n",
      " [0.         0.         0.         0.         0.         0.\n",
      "  0.6015625  0.98828125 0.98828125 0.98828125 0.6015625  0.54296875\n",
      "  0.04296875 0.         0.         0.         0.         0.\n",
      "  0.         0.         0.4453125  0.98828125 0.98828125 0.953125\n",
      "  0.0625     0.         0.         0.        ]\n",
      " [0.         0.         0.         0.         0.         0.01171875\n",
      "  0.6640625  0.98828125 0.98828125 0.98828125 0.98828125 0.98828125\n",
      "  0.7421875  0.13671875 0.         0.         0.         0.\n",
      "  0.         0.15234375 0.86328125 0.98828125 0.98828125 0.51953125\n",
      "  0.         0.         0.         0.        ]\n",
      " [0.         0.         0.         0.         0.         0.0703125\n",
      "  0.98828125 0.98828125 0.98828125 0.80078125 0.3515625  0.7421875\n",
      "  0.98828125 0.94140625 0.31640625 0.         0.         0.\n",
      "  0.         0.578125   0.98828125 0.98828125 0.76171875 0.04296875\n",
      "  0.         0.         0.         0.        ]\n",
      " [0.         0.         0.         0.         0.         0.0703125\n",
      "  0.98828125 0.98828125 0.7734375  0.04296875 0.         0.0078125\n",
      "  0.2734375  0.87890625 0.9375     0.17578125 0.         0.\n",
      "  0.1796875  0.89453125 0.98828125 0.98828125 0.3125     0.\n",
      "  0.         0.         0.         0.        ]\n",
      " [0.         0.         0.         0.         0.         0.0703125\n",
      "  0.98828125 0.98828125 0.7109375  0.         0.         0.\n",
      "  0.         0.625      0.98828125 0.7265625  0.0625     0.\n",
      "  0.5078125  0.98828125 0.98828125 0.7734375  0.03515625 0.\n",
      "  0.         0.         0.         0.        ]\n",
      " [0.         0.         0.         0.         0.         0.4921875\n",
      "  0.98828125 0.98828125 0.96484375 0.16796875 0.         0.\n",
      "  0.         0.421875   0.98828125 0.98828125 0.36328125 0.\n",
      "  0.71484375 0.98828125 0.98828125 0.31640625 0.         0.\n",
      "  0.         0.         0.         0.        ]\n",
      " [0.         0.         0.         0.         0.         0.53125\n",
      "  0.98828125 0.98046875 0.94140625 0.6015625  0.         0.\n",
      "  0.         0.00390625 0.46484375 0.98828125 0.984375   0.97265625\n",
      "  0.98828125 0.98828125 0.78515625 0.0078125  0.         0.\n",
      "  0.         0.         0.         0.        ]\n",
      " [0.         0.         0.         0.         0.         0.68359375\n",
      "  0.87890625 0.36328125 0.         0.         0.         0.\n",
      "  0.         0.         0.09765625 0.5859375  0.98828125 0.98828125\n",
      "  0.98828125 0.9765625  0.3046875  0.         0.         0.\n",
      "  0.         0.         0.         0.        ]\n",
      " [0.         0.         0.         0.         0.         0.1015625\n",
      "  0.671875   0.3203125  0.         0.         0.         0.\n",
      "  0.         0.         0.         0.10546875 0.73046875 0.97265625\n",
      "  0.80859375 0.7109375  0.         0.         0.         0.\n",
      "  0.         0.         0.         0.        ]\n",
      " [0.         0.         0.         0.         0.         0.6484375\n",
      "  0.98828125 0.3203125  0.         0.         0.         0.\n",
      "  0.         0.         0.         0.         0.         0.25\n",
      "  0.0078125  0.         0.         0.         0.         0.\n",
      "  0.         0.         0.         0.        ]\n",
      " [0.         0.         0.         0.         0.         0.99609375\n",
      "  0.9453125  0.21875    0.         0.         0.         0.\n",
      "  0.         0.         0.         0.         0.         0.\n",
      "  0.         0.         0.         0.         0.         0.\n",
      "  0.         0.         0.         0.        ]\n",
      " [0.         0.         0.         0.         0.         0.96484375\n",
      "  0.76171875 0.15234375 0.         0.         0.         0.\n",
      "  0.         0.         0.         0.         0.         0.\n",
      "  0.         0.         0.         0.         0.         0.\n",
      "  0.         0.         0.         0.        ]\n",
      " [0.         0.         0.         0.         0.         0.49609375\n",
      "  0.25       0.         0.         0.         0.         0.\n",
      "  0.         0.         0.         0.         0.         0.\n",
      "  0.         0.         0.         0.         0.         0.\n",
      "  0.         0.         0.         0.        ]\n",
      " [0.         0.         0.         0.         0.         0.\n",
      "  0.         0.         0.         0.         0.         0.\n",
      "  0.         0.         0.         0.         0.         0.\n",
      "  0.         0.         0.         0.         0.         0.\n",
      "  0.         0.         0.         0.        ]\n",
      " [0.         0.         0.         0.         0.         0.\n",
      "  0.         0.         0.         0.         0.         0.\n",
      "  0.         0.         0.         0.         0.         0.\n",
      "  0.         0.         0.         0.         0.         0.\n",
      "  0.         0.         0.         0.        ]\n",
      " [0.         0.         0.         0.         0.         0.\n",
      "  0.         0.         0.         0.         0.         0.\n",
      "  0.         0.         0.         0.         0.         0.\n",
      "  0.         0.         0.         0.         0.         0.\n",
      "  0.         0.         0.         0.        ]\n",
      " [0.         0.         0.         0.         0.         0.\n",
      "  0.         0.         0.         0.         0.         0.\n",
      "  0.         0.         0.         0.         0.         0.\n",
      "  0.         0.         0.         0.         0.         0.\n",
      "  0.         0.         0.         0.        ]]\n"
     ]
    }
   ],
   "source": [
    "#print the encoding\n",
    "print(train[0][0].transpose())"
   ]
  },
  {
   "cell_type": "code",
   "execution_count": 29,
   "metadata": {},
   "outputs": [
    {
     "name": "stdout",
     "output_type": "stream",
     "text": [
      "[[0. 0. 0. 0. 0. 1. 0. 0. 0. 0.]]\n"
     ]
    }
   ],
   "source": [
    "#print the label\n",
    "print(train[0][1].transpose())"
   ]
  },
  {
   "cell_type": "code",
   "execution_count": 80,
   "metadata": {},
   "outputs": [],
   "source": [
    "def lab_print(label):\n",
    "    return np.sum(np.multiply(label.reshape(1,10),np.arange(0,10)))"
   ]
  },
  {
   "cell_type": "code",
   "execution_count": 91,
   "metadata": {},
   "outputs": [],
   "source": [
    "def mnist_plot(image):\n",
    "    b=image.reshape(-1, 28) #reshape to 28 by 28 image\n",
    "    fig = plt.figure()\n",
    "    ax = fig.add_subplot(1, 1, 1)\n",
    "    ax.matshow(b, cmap = matplotlib.cm.binary)\n",
    "    plt.xticks(np.array([]))\n",
    "    plt.yticks(np.array([]))\n",
    "    plt.show()"
   ]
  },
  {
   "cell_type": "code",
   "execution_count": 92,
   "metadata": {},
   "outputs": [
    {
     "data": {
      "image/png": "[encoded data removed]",
      "text/plain": [
       "<Figure size 432x288 with 1 Axes>"
      ]
     },
     "metadata": {},
     "output_type": "display_data"
    }
   ],
   "source": [
    "#first image\n",
    "mnist_plot(train[0][0])"
   ]
  },
  {
   "cell_type": "code",
   "execution_count": 23,
   "metadata": {},
   "outputs": [
    {
     "data": {
      "text/plain": [
       "5.0"
      ]
     },
     "execution_count": 23,
     "metadata": {},
     "output_type": "execute_result"
    }
   ],
   "source": [
    "#label\n",
    "lab_print(train[0][1])"
   ]
  },
  {
   "cell_type": "code",
   "execution_count": 24,
   "metadata": {},
   "outputs": [
    {
     "data": {
      "image/png": "[encoded data removed]",
      "text/plain": [
       "<Figure size 432x288 with 1 Axes>"
      ]
     },
     "metadata": {},
     "output_type": "display_data"
    }
   ],
   "source": [
    "#second image\n",
    "mnist_plot(train[1][0])"
   ]
  },
  {
   "cell_type": "code",
   "execution_count": 19,
   "metadata": {},
   "outputs": [
    {
     "data": {
      "text/plain": [
       "0.0"
      ]
     },
     "execution_count": 19,
     "metadata": {},
     "output_type": "execute_result"
    }
   ],
   "source": [
    "#second label\n",
    "lab_print(train[1][1])"
   ]
  },
  {
   "cell_type": "code",
   "execution_count": 25,
   "metadata": {},
   "outputs": [
    {
     "data": {
      "image/png": "[encoded data removed]",
      "text/plain": [
       "<Figure size 432x288 with 1 Axes>"
      ]
     },
     "metadata": {},
     "output_type": "display_data"
    }
   ],
   "source": [
    "#third image\n",
    "mnist_plot(train[2][0])"
   ]
  },
  {
   "cell_type": "code",
   "execution_count": 21,
   "metadata": {},
   "outputs": [
    {
     "data": {
      "text/plain": [
       "4.0"
      ]
     },
     "execution_count": 21,
     "metadata": {},
     "output_type": "execute_result"
    }
   ],
   "source": [
    "#third label\n",
    "lab_print(train_list[2][1])"
   ]
  },
  {
   "cell_type": "code",
   "execution_count": 22,
   "metadata": {},
   "outputs": [
    {
     "data": {
      "image/png": "[encoded data removed]",
      "text/plain": [
       "<Figure size 432x288 with 1 Axes>"
      ]
     },
     "metadata": {},
     "output_type": "display_data"
    }
   ],
   "source": [
    "#500th image\n",
    "mnist_plot(train_list[499][0])"
   ]
  },
  {
   "cell_type": "code",
   "execution_count": 23,
   "metadata": {},
   "outputs": [
    {
     "data": {
      "text/plain": [
       "8.0"
      ]
     },
     "execution_count": 23,
     "metadata": {},
     "output_type": "execute_result"
    }
   ],
   "source": [
    "#500th label\n",
    "lab_print(train_list[499][1])"
   ]
  },
  {
   "cell_type": "markdown",
   "metadata": {},
   "source": [
    "## 2. Experiment with different Neural network structures"
   ]
  },
  {
   "cell_type": "code",
   "execution_count": 8,
   "metadata": {},
   "outputs": [],
   "source": [
    "def shared(data):\n",
    "        \"\"\"Place the data into shared variables.  This allows Theano to copy\n",
    "        the data to the GPU, if one is available.\n",
    "\n",
    "        \"\"\"\n",
    "        shared_x = theano.shared(\n",
    "            np.asarray(data[0], dtype=theano.config.floatX), borrow=True)\n",
    "        shared_y = theano.shared(\n",
    "            np.asarray(data[1], dtype=theano.config.floatX), borrow=True)\n",
    "        return shared_x, T.cast(shared_y, \"int32\")"
   ]
  },
  {
   "cell_type": "code",
   "execution_count": 253,
   "metadata": {},
   "outputs": [],
   "source": [
    "#GLOBAL VARIABLES\n",
    "annealer = LearningRateScheduler(lambda x: 1e-2 * 0.95 ** x, verbose=0)\n",
    "styles=[':','-.','--','dotted','solid']"
   ]
  },
  {
   "cell_type": "code",
   "execution_count": 209,
   "metadata": {},
   "outputs": [
    {
     "data": {
      "text/plain": [
       "0.00095"
      ]
     },
     "execution_count": 209,
     "metadata": {},
     "output_type": "execute_result"
    }
   ],
   "source": [
    "1e-3*0.95**1"
   ]
  },
  {
   "cell_type": "code",
   "execution_count": 193,
   "metadata": {},
   "outputs": [],
   "source": [
    "#select the image and the label\n",
    "xtrain=[t[0] for t in train]\n",
    "ytrain=[t[1] for t in train]"
   ]
  },
  {
   "cell_type": "code",
   "execution_count": 194,
   "metadata": {},
   "outputs": [],
   "source": [
    "#convert to numpy format\n",
    "xtrain=np.asarray(xtrain)\n",
    "ytrain=to_categorical(ytrain,num_classes=10)"
   ]
  },
  {
   "cell_type": "code",
   "execution_count": 195,
   "metadata": {},
   "outputs": [],
   "source": [
    "xval=[v[0] for v in val]\n",
    "yval=[v[1] for v in val]"
   ]
  },
  {
   "cell_type": "code",
   "execution_count": 196,
   "metadata": {},
   "outputs": [],
   "source": [
    "xval=np.asarray(xval)\n",
    "yval=to_categorical(yval,num_classes=10)"
   ]
  },
  {
   "cell_type": "code",
   "execution_count": 190,
   "metadata": {},
   "outputs": [
    {
     "data": {
      "text/plain": [
       "array([0., 0., 0., 0., 0., 0., 0., 0., 1., 0.], dtype=float32)"
      ]
     },
     "execution_count": 190,
     "metadata": {},
     "output_type": "execute_result"
    }
   ],
   "source": [
    "yval[1]"
   ]
  },
  {
   "cell_type": "code",
   "execution_count": 68,
   "metadata": {},
   "outputs": [],
   "source": [
    "del train, val"
   ]
  },
  {
   "cell_type": "markdown",
   "metadata": {},
   "source": [
    "### 2.1 Fully connected Layers "
   ]
  },
  {
   "cell_type": "markdown",
   "metadata": {},
   "source": [
    "#### 2.1.1 Model 1 - A  Network with a single fully connected hidden layers with  relu activation"
   ]
  },
  {
   "cell_type": "code",
   "execution_count": 237,
   "metadata": {},
   "outputs": [],
   "source": [
    "#Build a shallow network with a single hidden layer\n",
    "nets = 1\n",
    "model1 = [0]*nets\n",
    "\n",
    "model1 = Sequential()\n",
    "model1.add(Flatten())\n",
    "model1.add(Dense(100, activation='relu',input_shape=(28,28,1)))\n",
    "model1.add(Dense(10, activation='softmax'))\n",
    "model1.compile(optimizer=\"SGD\", loss=\"categorical_crossentropy\", metrics=[\"accuracy\"])"
   ]
  },
  {
   "cell_type": "code",
   "execution_count": 238,
   "metadata": {},
   "outputs": [
    {
     "name": "stdout",
     "output_type": "stream",
     "text": [
      "Train on 50000 samples, validate on 10000 samples\n",
      "Epoch 1/15\n",
      "50000/50000 [==============================] - 6s 120us/step - loss: 0.4601 - acc: 0.8761 - val_loss: 0.2646 - val_acc: 0.9266\n",
      "Epoch 2/15\n",
      "50000/50000 [==============================] - 5s 106us/step - loss: 0.2589 - acc: 0.9264 - val_loss: 0.2143 - val_acc: 0.9402\n",
      "Epoch 3/15\n",
      "50000/50000 [==============================] - 6s 113us/step - loss: 0.2119 - acc: 0.9398 - val_loss: 0.1827 - val_acc: 0.9500\n",
      "Epoch 4/15\n",
      "50000/50000 [==============================] - 6s 126us/step - loss: 0.1807 - acc: 0.9484 - val_loss: 0.1619 - val_acc: 0.9559\n",
      "Epoch 5/15\n",
      "50000/50000 [==============================] - 6s 113us/step - loss: 0.1588 - acc: 0.9545 - val_loss: 0.1508 - val_acc: 0.9573\n",
      "Epoch 6/15\n",
      "50000/50000 [==============================] - 6s 120us/step - loss: 0.1427 - acc: 0.9594 - val_loss: 0.1374 - val_acc: 0.9626\n",
      "Epoch 7/15\n",
      "50000/50000 [==============================] - 5s 110us/step - loss: 0.1296 - acc: 0.9636 - val_loss: 0.1286 - val_acc: 0.9660\n",
      "Epoch 8/15\n",
      "50000/50000 [==============================] - 5s 104us/step - loss: 0.1199 - acc: 0.9665 - val_loss: 0.1237 - val_acc: 0.9662\n",
      "Epoch 9/15\n",
      "50000/50000 [==============================] - 6s 126us/step - loss: 0.1109 - acc: 0.9693 - val_loss: 0.1179 - val_acc: 0.9677\n",
      "Epoch 10/15\n",
      "50000/50000 [==============================] - 5s 105us/step - loss: 0.1042 - acc: 0.9710 - val_loss: 0.1128 - val_acc: 0.9685\n",
      "Epoch 11/15\n",
      "50000/50000 [==============================] - 6s 111us/step - loss: 0.0981 - acc: 0.9730 - val_loss: 0.1089 - val_acc: 0.9690\n",
      "Epoch 12/15\n",
      "50000/50000 [==============================] - 6s 112us/step - loss: 0.0927 - acc: 0.9739 - val_loss: 0.1080 - val_acc: 0.9702\n",
      "Epoch 13/15\n",
      "50000/50000 [==============================] - 5s 103us/step - loss: 0.0885 - acc: 0.9756 - val_loss: 0.1032 - val_acc: 0.9705\n",
      "Epoch 14/15\n",
      "50000/50000 [==============================] - 5s 105us/step - loss: 0.0844 - acc: 0.9773 - val_loss: 0.1017 - val_acc: 0.9708\n",
      "Epoch 15/15\n",
      "50000/50000 [==============================] - 5s 107us/step - loss: 0.0810 - acc: 0.9781 - val_loss: 0.1001 - val_acc: 0.9714\n"
     ]
    }
   ],
   "source": [
    "#Estimate the model\n",
    "epochs = 15\n",
    "h1 = model1.fit(xtrain,ytrain, batch_size=10, epochs = epochs,validation_data = (xval,yval), callbacks=[annealer], verbose=1)"
   ]
  },
  {
   "cell_type": "code",
   "execution_count": 239,
   "metadata": {},
   "outputs": [
    {
     "name": "stdout",
     "output_type": "stream",
     "text": [
      "NN Model1: Epochs=15, Train accuracy=0.97806, Validation accuracy=0.97140\n"
     ]
    }
   ],
   "source": [
    "print(\"NN {0}: Epochs={1:d}, Train accuracy={2:.5f}, Validation accuracy={3:.5f}\".format(\"Model1\",epochs,max(h1.history['acc']),max(h1.history['val_acc'])))"
   ]
  },
  {
   "cell_type": "markdown",
   "metadata": {},
   "source": [
    "#### 2.2 Model 2 - A  Network with two fully connected hidden layers with sigmoid and relu activation"
   ]
  },
  {
   "cell_type": "code",
   "execution_count": 234,
   "metadata": {},
   "outputs": [],
   "source": [
    "#Build a shallow network with a single hidden layer\n",
    "nets = 1\n",
    "model2 = [0]*nets\n",
    "\n",
    "model2 = Sequential()\n",
    "model2.add(Flatten())\n",
    "model2.add(Dense(300, activation='sigmoid',input_shape=(28,28,1)))\n",
    "model2.add(Dense(100, activation='relu'))\n",
    "model2.add(Dense(10, activation='softmax'))\n",
    "model2.compile(optimizer=\"SGD\", loss=\"categorical_crossentropy\", metrics=[\"accuracy\"])"
   ]
  },
  {
   "cell_type": "code",
   "execution_count": 235,
   "metadata": {},
   "outputs": [
    {
     "name": "stdout",
     "output_type": "stream",
     "text": [
      "Train on 50000 samples, validate on 10000 samples\n",
      "Epoch 1/15\n",
      "50000/50000 [==============================] - 6s 122us/step - loss: 0.7378 - acc: 0.7993 - val_loss: 0.3553 - val_acc: 0.8961\n",
      "Epoch 2/15\n",
      "50000/50000 [==============================] - 6s 126us/step - loss: 0.3521 - acc: 0.8971 - val_loss: 0.2915 - val_acc: 0.9134\n",
      "Epoch 3/15\n",
      "50000/50000 [==============================] - 6s 123us/step - loss: 0.3104 - acc: 0.9094 - val_loss: 0.2759 - val_acc: 0.9199\n",
      "Epoch 4/15\n",
      "50000/50000 [==============================] - 6s 123us/step - loss: 0.2860 - acc: 0.9161 - val_loss: 0.2577 - val_acc: 0.9243\n",
      "Epoch 5/15\n",
      "50000/50000 [==============================] - 6s 128us/step - loss: 0.2656 - acc: 0.9221 - val_loss: 0.2391 - val_acc: 0.9314\n",
      "Epoch 6/15\n",
      "50000/50000 [==============================] - 6s 121us/step - loss: 0.2480 - acc: 0.9269 - val_loss: 0.2339 - val_acc: 0.9307\n",
      "Epoch 7/15\n",
      "50000/50000 [==============================] - 6s 125us/step - loss: 0.2328 - acc: 0.9322 - val_loss: 0.2157 - val_acc: 0.9385\n",
      "Epoch 8/15\n",
      "50000/50000 [==============================] - 6s 130us/step - loss: 0.2197 - acc: 0.9360 - val_loss: 0.2060 - val_acc: 0.9438\n",
      "Epoch 9/15\n",
      "50000/50000 [==============================] - 6s 127us/step - loss: 0.2089 - acc: 0.9391 - val_loss: 0.1955 - val_acc: 0.9461\n",
      "Epoch 10/15\n",
      "50000/50000 [==============================] - 7s 131us/step - loss: 0.1987 - acc: 0.9417 - val_loss: 0.1911 - val_acc: 0.9466\n",
      "Epoch 11/15\n",
      "50000/50000 [==============================] - 6s 123us/step - loss: 0.1900 - acc: 0.9448 - val_loss: 0.1797 - val_acc: 0.9493\n",
      "Epoch 12/15\n",
      "50000/50000 [==============================] - 6s 122us/step - loss: 0.1819 - acc: 0.9466 - val_loss: 0.1772 - val_acc: 0.9487\n",
      "Epoch 13/15\n",
      "50000/50000 [==============================] - 7s 131us/step - loss: 0.1755 - acc: 0.9482 - val_loss: 0.1775 - val_acc: 0.9503\n",
      "Epoch 14/15\n",
      "50000/50000 [==============================] - 6s 125us/step - loss: 0.1694 - acc: 0.9500 - val_loss: 0.1670 - val_acc: 0.9521\n",
      "Epoch 15/15\n",
      "50000/50000 [==============================] - 7s 133us/step - loss: 0.1643 - acc: 0.9513 - val_loss: 0.1629 - val_acc: 0.9536\n"
     ]
    }
   ],
   "source": [
    "#Estimate the model\n",
    "epochs = 15\n",
    "h2 = model2.fit(xtrain,ytrain, batch_size=10, epochs = epochs,validation_data = (xval,yval), callbacks=[annealer], verbose=1)"
   ]
  },
  {
   "cell_type": "code",
   "execution_count": 236,
   "metadata": {},
   "outputs": [
    {
     "name": "stdout",
     "output_type": "stream",
     "text": [
      "NN Model2: Epochs=15, Train accuracy=0.95126, Validation accuracy=0.95360\n"
     ]
    }
   ],
   "source": [
    "print(\"NN {0}: Epochs={1:d}, Train accuracy={2:.5f}, Validation accuracy={3:.5f}\".format(\"Model2\",epochs,max(h2.history['acc']),max(h2.history['val_acc'])))"
   ]
  },
  {
   "cell_type": "markdown",
   "metadata": {},
   "source": [
    "#### 2.3 Model 3 - A  Network with two fully connected hidden layers with relu activation in both"
   ]
  },
  {
   "cell_type": "code",
   "execution_count": 240,
   "metadata": {},
   "outputs": [],
   "source": [
    "#Build a NN network with a two hidden layers\n",
    "nets = 1\n",
    "model3 = [0]*nets\n",
    "\n",
    "model3 = Sequential()\n",
    "model3.add(Flatten())\n",
    "model3.add(Dense(300, activation='relu',input_shape=(28,28,1)))\n",
    "model3.add(Dense(100, activation='relu'))\n",
    "model3.add(Dense(10, activation='softmax'))\n",
    "model3.compile(optimizer=\"SGD\", loss=\"categorical_crossentropy\", metrics=[\"accuracy\"])"
   ]
  },
  {
   "cell_type": "code",
   "execution_count": 241,
   "metadata": {},
   "outputs": [
    {
     "name": "stdout",
     "output_type": "stream",
     "text": [
      "Train on 50000 samples, validate on 10000 samples\n",
      "Epoch 1/15\n",
      "50000/50000 [==============================] - 6s 124us/step - loss: 0.4004 - acc: 0.8886 - val_loss: 0.2087 - val_acc: 0.9431\n",
      "Epoch 2/15\n",
      "50000/50000 [==============================] - 5s 105us/step - loss: 0.1926 - acc: 0.9437 - val_loss: 0.1480 - val_acc: 0.9581\n",
      "Epoch 3/15\n",
      "50000/50000 [==============================] - 6s 115us/step - loss: 0.1417 - acc: 0.9585 - val_loss: 0.1267 - val_acc: 0.9653\n",
      "Epoch 4/15\n",
      "50000/50000 [==============================] - 9s 180us/step - loss: 0.1127 - acc: 0.9671 - val_loss: 0.1075 - val_acc: 0.9691\n",
      "Epoch 5/15\n",
      "50000/50000 [==============================] - 9s 171us/step - loss: 0.0931 - acc: 0.9726 - val_loss: 0.1053 - val_acc: 0.9699\n",
      "Epoch 6/15\n",
      "50000/50000 [==============================] - 10s 196us/step - loss: 0.0791 - acc: 0.9764 - val_loss: 0.0980 - val_acc: 0.9729\n",
      "Epoch 7/15\n",
      "50000/50000 [==============================] - 9s 190us/step - loss: 0.0690 - acc: 0.9803 - val_loss: 0.0899 - val_acc: 0.9737\n",
      "Epoch 8/15\n",
      "50000/50000 [==============================] - 9s 170us/step - loss: 0.0597 - acc: 0.9830 - val_loss: 0.0833 - val_acc: 0.9756\n",
      "Epoch 9/15\n",
      "50000/50000 [==============================] - 9s 173us/step - loss: 0.0527 - acc: 0.9855 - val_loss: 0.0822 - val_acc: 0.9757\n",
      "Epoch 10/15\n",
      "50000/50000 [==============================] - 8s 166us/step - loss: 0.0471 - acc: 0.9867 - val_loss: 0.0795 - val_acc: 0.9769\n",
      "Epoch 11/15\n",
      "50000/50000 [==============================] - 9s 177us/step - loss: 0.0420 - acc: 0.9887 - val_loss: 0.0775 - val_acc: 0.9770\n",
      "Epoch 12/15\n",
      "50000/50000 [==============================] - 9s 178us/step - loss: 0.0375 - acc: 0.9905 - val_loss: 0.0790 - val_acc: 0.9764\n",
      "Epoch 13/15\n",
      "50000/50000 [==============================] - 10s 192us/step - loss: 0.0338 - acc: 0.9916 - val_loss: 0.0798 - val_acc: 0.9763\n",
      "Epoch 14/15\n",
      "50000/50000 [==============================] - 9s 185us/step - loss: 0.0308 - acc: 0.9926 - val_loss: 0.0770 - val_acc: 0.9777\n",
      "Epoch 15/15\n",
      "50000/50000 [==============================] - 10s 196us/step - loss: 0.0281 - acc: 0.9936 - val_loss: 0.0759 - val_acc: 0.9785\n"
     ]
    }
   ],
   "source": [
    "#Estimate the model\n",
    "epochs = 15\n",
    "h3 = model3.fit(xtrain,ytrain, batch_size=10, epochs = epochs,validation_data = (xval,yval), callbacks=[annealer], verbose=1)"
   ]
  },
  {
   "cell_type": "code",
   "execution_count": 242,
   "metadata": {},
   "outputs": [
    {
     "name": "stdout",
     "output_type": "stream",
     "text": [
      "NN Model3: Epochs=15, Train accuracy=0.99356, Validation accuracy=0.97850\n"
     ]
    }
   ],
   "source": [
    "print(\"NN {0}: Epochs={1:d}, Train accuracy={2:.5f}, Validation accuracy={3:.5f}\".format(\"Model3\",epochs,max(h3.history['acc']),max(h3.history['val_acc'])))"
   ]
  },
  {
   "cell_type": "markdown",
   "metadata": {},
   "source": [
    "### 2.1.4 Model 4 - A  Network with two fully connected hidden layers with tanh and relu activation"
   ]
  },
  {
   "cell_type": "code",
   "execution_count": 243,
   "metadata": {},
   "outputs": [],
   "source": [
    "#Build a network with two hidden layers\n",
    "nets = 1\n",
    "model4 = [0]*nets\n",
    "\n",
    "model4 = Sequential()\n",
    "model4.add(Flatten())\n",
    "model4.add(Dense(300, activation='tanh',input_shape=(28,28,1)))\n",
    "model4.add(Dense(100, activation='relu'))\n",
    "model4.add(Dense(10, activation='softmax'))\n",
    "model4.compile(optimizer=\"SGD\", loss=\"categorical_crossentropy\", metrics=[\"accuracy\"])"
   ]
  },
  {
   "cell_type": "code",
   "execution_count": 244,
   "metadata": {},
   "outputs": [
    {
     "name": "stdout",
     "output_type": "stream",
     "text": [
      "Train on 50000 samples, validate on 10000 samples\n",
      "Epoch 1/15\n",
      "50000/50000 [==============================] - 11s 215us/step - loss: 0.3794 - acc: 0.8944 - val_loss: 0.2150 - val_acc: 0.9379\n",
      "Epoch 2/15\n",
      "50000/50000 [==============================] - 11s 214us/step - loss: 0.2021 - acc: 0.9414 - val_loss: 0.1650 - val_acc: 0.9529\n",
      "Epoch 3/15\n",
      "50000/50000 [==============================] - 11s 217us/step - loss: 0.1575 - acc: 0.9540 - val_loss: 0.1416 - val_acc: 0.9598\n",
      "Epoch 4/15\n",
      "50000/50000 [==============================] - 10s 202us/step - loss: 0.1311 - acc: 0.9614 - val_loss: 0.1313 - val_acc: 0.9630\n",
      "Epoch 5/15\n",
      "50000/50000 [==============================] - 10s 200us/step - loss: 0.1137 - acc: 0.9666 - val_loss: 0.1170 - val_acc: 0.9664\n",
      "Epoch 6/15\n",
      "50000/50000 [==============================] - 10s 193us/step - loss: 0.0995 - acc: 0.9709 - val_loss: 0.1090 - val_acc: 0.9692\n",
      "Epoch 7/15\n",
      "50000/50000 [==============================] - 10s 200us/step - loss: 0.0896 - acc: 0.9737 - val_loss: 0.1028 - val_acc: 0.9709\n",
      "Epoch 8/15\n",
      "50000/50000 [==============================] - 10s 201us/step - loss: 0.0804 - acc: 0.9775 - val_loss: 0.0984 - val_acc: 0.9724\n",
      "Epoch 9/15\n",
      "50000/50000 [==============================] - 9s 188us/step - loss: 0.0737 - acc: 0.9793 - val_loss: 0.0924 - val_acc: 0.9735\n",
      "Epoch 10/15\n",
      "50000/50000 [==============================] - 10s 196us/step - loss: 0.0677 - acc: 0.9807 - val_loss: 0.0893 - val_acc: 0.9746\n",
      "Epoch 11/15\n",
      "50000/50000 [==============================] - 10s 192us/step - loss: 0.0627 - acc: 0.9825 - val_loss: 0.0869 - val_acc: 0.9751\n",
      "Epoch 12/15\n",
      "50000/50000 [==============================] - 10s 207us/step - loss: 0.0579 - acc: 0.9839 - val_loss: 0.0845 - val_acc: 0.9758\n",
      "Epoch 13/15\n",
      "50000/50000 [==============================] - 11s 218us/step - loss: 0.0544 - acc: 0.9850 - val_loss: 0.0829 - val_acc: 0.9748\n",
      "Epoch 14/15\n",
      "50000/50000 [==============================] - 10s 209us/step - loss: 0.0507 - acc: 0.9864 - val_loss: 0.0806 - val_acc: 0.9770\n",
      "Epoch 15/15\n",
      "50000/50000 [==============================] - 10s 195us/step - loss: 0.0476 - acc: 0.9877 - val_loss: 0.0795 - val_acc: 0.9761\n"
     ]
    }
   ],
   "source": [
    "#Estimate the model\n",
    "epochs = 15\n",
    "h4 = model4.fit(xtrain,ytrain, batch_size=10, epochs = epochs,validation_data = (xval,yval), callbacks=[annealer], verbose=1)"
   ]
  },
  {
   "cell_type": "code",
   "execution_count": 245,
   "metadata": {},
   "outputs": [
    {
     "name": "stdout",
     "output_type": "stream",
     "text": [
      "NN Model4: Epochs=15, Train accuracy=0.98770, Validation accuracy=0.97700\n"
     ]
    }
   ],
   "source": [
    "print(\"NN {0}: Epochs={1:d}, Train accuracy={2:.5f}, Validation accuracy={3:.5f}\".format(\"Model4\",epochs,max(h4.history['acc']),max(h4.history['val_acc'])))"
   ]
  },
  {
   "cell_type": "markdown",
   "metadata": {},
   "source": [
    "### 2.1.5 Model 5 - A Convolution Neural Network with a single convolution layer and 1 Fully Connected layer"
   ]
  },
  {
   "cell_type": "code",
   "execution_count": null,
   "metadata": {},
   "outputs": [],
   "source": [
    "# BUILD CONVOLUTIONAL NEURAL NETWORKS\n",
    "nets = 1\n",
    "model = [0]*nets\n",
    "\n",
    "model = Sequential()\n",
    "model.add(Conv2D(24,kernel_size=5,padding='same',activation='relu',\n",
    "            input_shape=(28,28,1)))\n",
    "model.add(MaxPool2D())\n",
    "model.add(Flatten())\n",
    "model.add(Dense(256, activation='relu'))\n",
    "model.add(Dense(10, activation='softmax'))\n",
    "model.compile(optimizer=\"SGD\", loss=\"categorical_crossentropy\", metrics=[\"accuracy\"])"
   ]
  },
  {
   "cell_type": "code",
   "execution_count": 213,
   "metadata": {},
   "outputs": [
    {
     "name": "stdout",
     "output_type": "stream",
     "text": [
      "Train on 50000 samples, validate on 10000 samples\n",
      "Epoch 1/15\n",
      "50000/50000 [==============================] - 68s 1ms/step - loss: 0.3029 - acc: 0.9094 - val_loss: 0.1399 - val_acc: 0.9598\n",
      "Epoch 2/15\n",
      "50000/50000 [==============================] - 68s 1ms/step - loss: 0.1160 - acc: 0.9645 - val_loss: 0.0894 - val_acc: 0.9738\n",
      "Epoch 3/15\n",
      "50000/50000 [==============================] - 67s 1ms/step - loss: 0.0771 - acc: 0.9773 - val_loss: 0.0725 - val_acc: 0.9782\n",
      "Epoch 4/15\n",
      "50000/50000 [==============================] - 68s 1ms/step - loss: 0.0583 - acc: 0.9829 - val_loss: 0.0622 - val_acc: 0.9833\n",
      "Epoch 5/15\n",
      "50000/50000 [==============================] - 65s 1ms/step - loss: 0.0475 - acc: 0.9862 - val_loss: 0.0560 - val_acc: 0.9836\n",
      "Epoch 6/15\n",
      "50000/50000 [==============================] - 63s 1ms/step - loss: 0.0391 - acc: 0.9887 - val_loss: 0.0597 - val_acc: 0.9835\n",
      "Epoch 7/15\n",
      "50000/50000 [==============================] - 64s 1ms/step - loss: 0.0332 - acc: 0.9901 - val_loss: 0.0537 - val_acc: 0.9849\n",
      "Epoch 8/15\n",
      "50000/50000 [==============================] - 63s 1ms/step - loss: 0.0279 - acc: 0.9918 - val_loss: 0.0562 - val_acc: 0.9831\n",
      "Epoch 9/15\n",
      "50000/50000 [==============================] - 64s 1ms/step - loss: 0.0243 - acc: 0.9932 - val_loss: 0.0494 - val_acc: 0.9855\n",
      "Epoch 10/15\n",
      "50000/50000 [==============================] - 63s 1ms/step - loss: 0.0209 - acc: 0.9939 - val_loss: 0.0489 - val_acc: 0.9850\n",
      "Epoch 11/15\n",
      "50000/50000 [==============================] - 63s 1ms/step - loss: 0.0186 - acc: 0.9946 - val_loss: 0.0518 - val_acc: 0.9853\n",
      "Epoch 12/15\n",
      "50000/50000 [==============================] - 64s 1ms/step - loss: 0.0160 - acc: 0.9956 - val_loss: 0.0463 - val_acc: 0.9865\n",
      "Epoch 13/15\n",
      "50000/50000 [==============================] - 63s 1ms/step - loss: 0.0141 - acc: 0.9964 - val_loss: 0.0471 - val_acc: 0.9851\n",
      "Epoch 14/15\n",
      "50000/50000 [==============================] - 63s 1ms/step - loss: 0.0125 - acc: 0.9968 - val_loss: 0.0452 - val_acc: 0.9866\n",
      "Epoch 15/15\n",
      "50000/50000 [==============================] - 379s 8ms/step - loss: 0.0109 - acc: 0.9974 - val_loss: 0.0488 - val_acc: 0.9862\n"
     ]
    },
    {
     "ename": "ValueError",
     "evalue": "Unknown format code 'd' for object of type 'float'",
     "output_type": "error",
     "traceback": [
      "\u001b[1;31m---------------------------------------------------------------------------\u001b[0m",
      "\u001b[1;31mValueError\u001b[0m                                Traceback (most recent call last)",
      "\u001b[1;32m<ipython-input-213-60c12e1a0919>\u001b[0m in \u001b[0;36m<module>\u001b[1;34m\u001b[0m\n\u001b[0;32m      7\u001b[0m \u001b[0mhistory\u001b[0m \u001b[1;33m=\u001b[0m \u001b[0mmodel\u001b[0m\u001b[1;33m.\u001b[0m\u001b[0mfit\u001b[0m\u001b[1;33m(\u001b[0m\u001b[0mxtrain\u001b[0m\u001b[1;33m,\u001b[0m\u001b[0mytrain\u001b[0m\u001b[1;33m,\u001b[0m \u001b[0mbatch_size\u001b[0m\u001b[1;33m=\u001b[0m\u001b[1;36m10\u001b[0m\u001b[1;33m,\u001b[0m \u001b[0mepochs\u001b[0m \u001b[1;33m=\u001b[0m \u001b[0mepochs\u001b[0m\u001b[1;33m,\u001b[0m\u001b[0mvalidation_data\u001b[0m \u001b[1;33m=\u001b[0m \u001b[1;33m(\u001b[0m\u001b[0mxval\u001b[0m\u001b[1;33m,\u001b[0m\u001b[0myval\u001b[0m\u001b[1;33m)\u001b[0m\u001b[1;33m,\u001b[0m \u001b[0mcallbacks\u001b[0m\u001b[1;33m=\u001b[0m\u001b[1;33m[\u001b[0m\u001b[0mannealer\u001b[0m\u001b[1;33m]\u001b[0m\u001b[1;33m,\u001b[0m \u001b[0mverbose\u001b[0m\u001b[1;33m=\u001b[0m\u001b[1;36m1\u001b[0m\u001b[1;33m)\u001b[0m\u001b[1;33m\u001b[0m\u001b[1;33m\u001b[0m\u001b[0m\n\u001b[0;32m      8\u001b[0m print(\"CNN {0}: Epochs={1:d}, Train accuracy={2:.5f}, Validation accuracy={3:.5f}\".format(\n\u001b[1;32m----> 9\u001b[1;33m        epochs,max(history.history['acc']),max(history.history['val_acc']) ))\n\u001b[0m",
      "\u001b[1;31mValueError\u001b[0m: Unknown format code 'd' for object of type 'float'"
     ]
    }
   ],
   "source": [
    "#Estimate the model\n",
    "epochs = 15\n",
    "history = model.fit(xtrain,ytrain, batch_size=10, epochs = epochs,validation_data = (xval,yval), callbacks=[annealer], verbose=1)"
   ]
  },
  {
   "cell_type": "code",
   "execution_count": 227,
   "metadata": {},
   "outputs": [
    {
     "name": "stdout",
     "output_type": "stream",
     "text": [
      "CNN Model1: Epochs=15, Train accuracy=0.99736, Validation accuracy=0.98660\n"
     ]
    }
   ],
   "source": [
    "print(\"CNN {0}: Epochs={1:d}, Train accuracy={2:.5f}, Validation accuracy={3:.5f}\".format(\"Model5\",epochs,max(history.history['acc']),max(history.history['val_acc'])))"
   ]
  },
  {
   "cell_type": "code",
   "execution_count": 255,
   "metadata": {},
   "outputs": [
    {
     "data": {
      "image/png": "[encoded data removed]",
      "text/plain": [
       "<Figure size 1080x360 with 1 Axes>"
      ]
     },
     "metadata": {
      "needs_background": "light"
     },
     "output_type": "display_data"
    }
   ],
   "source": [
    "name=['NN1-Re','NN2-S-Re','NN2-Re-Re','NN2-Th-Re','CNN-1']\n",
    "# PLOT ACCURACIES\n",
    "plt.figure(figsize=(15,5))\n",
    "plt.plot(h1.history['val_acc'],linestyle=styles[0])\n",
    "plt.plot(h2.history['val_acc'],linestyle=styles[1])\n",
    "plt.plot(h3.history['val_acc'],linestyle=styles[2])\n",
    "plt.plot(h4.history['val_acc'],linestyle=styles[3])\n",
    "plt.plot(history.history['val_acc'],linestyle=styles[4])\n",
    "plt.title('Model accuracy for different NN vs CNN')\n",
    "plt.ylabel('accuracy')\n",
    "plt.xlabel('epoch')\n",
    "plt.legend(name, loc='upper left')\n",
    "axes = plt.gca()\n",
    "axes.set_ylim([0.90,1])\n",
    "plt.show()"
   ]
  },
  {
   "cell_type": "markdown",
   "metadata": {},
   "source": [
    "The analysis shows some interesting results for simple Neural Network models and Convolution Neural Network models. Firstly, the CNN significantly outperforms all the different models. The CNN has only one fully connected layer and one convolution layer with max pooling. \n",
    "The other models use different activations functions and neural network structures:\n",
    "   \n",
    "   1) NN1-RE: This is Model 1 above and is single layer with (100 neurons) and Relu activation function\n",
    "   \n",
    "   2) NN2-S-RE: This is Model 2 above and is two hidden layers with 300 and 100  neurons with sigmoid and one Relu activation function\n",
    "   \n",
    "   3) NN2-Re-Re: This is Model 3 above and is two hidden layers with 300 and 100  neurons and two Relu activation functions\n",
    "   \n",
    "   4) NN2-Th-Re: This is Model 4 above and is two hidden layers with 300 and 100  neurons and tanh, Relu activation functions\n",
    "\n",
    "The relu activation functions outperform other dense layer specifications although the tanh activation function seems to catch up and quite closely perform the relu specification (NN2-Re-Re). \n",
    "\n",
    "Let see how regularization might change the performance of these results. "
   ]
  },
  {
   "cell_type": "markdown",
   "metadata": {},
   "source": [
    "### 2.6 Model 6 - Regularizing the Neural Network with two fully connected hidden layers and relu activation"
   ]
  },
  {
   "cell_type": "code",
   "execution_count": 256,
   "metadata": {},
   "outputs": [],
   "source": [
    "from keras import regularizers as norm"
   ]
  },
  {
   "cell_type": "code",
   "execution_count": 267,
   "metadata": {},
   "outputs": [],
   "source": [
    "#Build a NN network with a two hidden layers\n",
    "nets = 1\n",
    "model6 = [0]*nets\n",
    "\n",
    "model6 = Sequential()\n",
    "model6.add(Flatten())\n",
    "model6.add(Dense(300, activation='relu',input_shape=(28,28,1), kernel_regularizer=norm.l2(0.01)))\n",
    "model6.add(Dense(100, activation='relu', kernel_regularizer=norm.l2(0.05)))\n",
    "model6.add(Dense(10, activation='softmax'))\n",
    "model6.compile(optimizer=\"SGD\", loss=\"categorical_crossentropy\", metrics=[\"accuracy\"])"
   ]
  },
  {
   "cell_type": "code",
   "execution_count": 268,
   "metadata": {},
   "outputs": [
    {
     "name": "stdout",
     "output_type": "stream",
     "text": [
      "Train on 50000 samples, validate on 10000 samples\n",
      "Epoch 1/15\n",
      "50000/50000 [==============================] - 10s 197us/step - loss: 3.4684 - acc: 0.8622 - val_loss: 1.2925 - val_acc: 0.8947\n",
      "Epoch 2/15\n",
      "50000/50000 [==============================] - 10s 191us/step - loss: 0.9417 - acc: 0.8995 - val_loss: 0.7004 - val_acc: 0.9133\n",
      "Epoch 3/15\n",
      "50000/50000 [==============================] - 10s 205us/step - loss: 0.6634 - acc: 0.9074 - val_loss: 0.5910 - val_acc: 0.9185\n",
      "Epoch 4/15\n",
      "50000/50000 [==============================] - 10s 192us/step - loss: 0.5934 - acc: 0.9142 - val_loss: 0.5404 - val_acc: 0.9277\n",
      "Epoch 5/15\n",
      "50000/50000 [==============================] - 10s 191us/step - loss: 0.5603 - acc: 0.9184 - val_loss: 0.5228 - val_acc: 0.9300\n",
      "Epoch 6/15\n",
      "50000/50000 [==============================] - 9s 188us/step - loss: 0.5390 - acc: 0.9223 - val_loss: 0.5014 - val_acc: 0.9332\n",
      "Epoch 7/15\n",
      "50000/50000 [==============================] - 10s 197us/step - loss: 0.5227 - acc: 0.9259 - val_loss: 0.4930 - val_acc: 0.9341\n",
      "Epoch 8/15\n",
      "50000/50000 [==============================] - 10s 197us/step - loss: 0.5088 - acc: 0.9281 - val_loss: 0.4775 - val_acc: 0.9395\n",
      "Epoch 9/15\n",
      "50000/50000 [==============================] - 10s 193us/step - loss: 0.4975 - acc: 0.9302 - val_loss: 0.4687 - val_acc: 0.9390\n",
      "Epoch 10/15\n",
      "50000/50000 [==============================] - 10s 195us/step - loss: 0.4881 - acc: 0.9318 - val_loss: 0.4578 - val_acc: 0.9422\n",
      "Epoch 11/15\n",
      "50000/50000 [==============================] - 10s 207us/step - loss: 0.4799 - acc: 0.9334 - val_loss: 0.4580 - val_acc: 0.9420\n",
      "Epoch 12/15\n",
      "50000/50000 [==============================] - 10s 205us/step - loss: 0.4722 - acc: 0.9356 - val_loss: 0.4480 - val_acc: 0.9442\n",
      "Epoch 13/15\n",
      "50000/50000 [==============================] - 10s 205us/step - loss: 0.4661 - acc: 0.9365 - val_loss: 0.4384 - val_acc: 0.9472\n",
      "Epoch 14/15\n",
      "50000/50000 [==============================] - 10s 200us/step - loss: 0.4598 - acc: 0.9379 - val_loss: 0.4365 - val_acc: 0.9452\n",
      "Epoch 15/15\n",
      "50000/50000 [==============================] - 10s 194us/step - loss: 0.4544 - acc: 0.9390 - val_loss: 0.4312 - val_acc: 0.9464\n"
     ]
    }
   ],
   "source": [
    "#Estimate the model\n",
    "epochs = 15\n",
    "h6 = model6.fit(xtrain,ytrain, batch_size=10, epochs = epochs,validation_data = (xval,yval), callbacks=[annealer], verbose=1)"
   ]
  },
  {
   "cell_type": "code",
   "execution_count": 269,
   "metadata": {},
   "outputs": [
    {
     "name": "stdout",
     "output_type": "stream",
     "text": [
      "NN Regularized Model6: Epochs=15, Train accuracy=0.93902, Validation accuracy=0.94720\n"
     ]
    }
   ],
   "source": [
    "print(\"NN Regularized {0}: Epochs={1:d}, Train accuracy={2:.5f}, Validation accuracy={3:.5f}\".format(\"Model6\",epochs,max(h6.history['acc']),max(h6.history['val_acc'])))"
   ]
  },
  {
   "cell_type": "code",
   "execution_count": 263,
   "metadata": {},
   "outputs": [
    {
     "data": {
      "image/png": "[encoded data removed]",
      "text/plain": [
       "<Figure size 1080x360 with 1 Axes>"
      ]
     },
     "metadata": {
      "needs_background": "light"
     },
     "output_type": "display_data"
    }
   ],
   "source": [
    "name=['NN2-Re-Re','CNN-1','NN2-Re-Reg']\n",
    "# PLOT ACCURACIES\n",
    "plt.figure(figsize=(15,5))\n",
    "plt.plot(h3.history['val_acc'],linestyle=styles[2])\n",
    "plt.plot(history.history['val_acc'],linestyle=styles[4])\n",
    "plt.plot(h6.history['val_acc'],linestyle=styles[0])\n",
    "plt.title('Model accuracy for NN with Regularization vs CNN')\n",
    "plt.ylabel('accuracy')\n",
    "plt.xlabel('epoch')\n",
    "plt.legend(name, loc='upper left')\n",
    "axes = plt.gca()\n",
    "axes.set_ylim([0.90,1])\n",
    "plt.show()"
   ]
  },
  {
   "cell_type": "markdown",
   "metadata": {},
   "source": [
    "### 2.2 Convolution Neural Networks "
   ]
  },
  {
   "cell_type": "code",
   "execution_count": 272,
   "metadata": {},
   "outputs": [],
   "source": [
    "# BUILD CONVOLUTIONAL NEURAL NETWORKS\n",
    "nets = 1\n",
    "model1C = [0]*nets\n",
    "\n",
    "model1C = Sequential()\n",
    "model1C.add(Conv2D(24,kernel_size=5,padding='same',activation='relu',\n",
    "            input_shape=(28,28,1)))\n",
    "model1C.add(AvgPool2D())\n",
    "model1C.add(Flatten())\n",
    "model1C.add(Dense(256, activation='relu'))\n",
    "model1C.add(Dense(10, activation='softmax'))\n",
    "model1C.compile(optimizer=\"SGD\", loss=\"categorical_crossentropy\", metrics=[\"accuracy\"])"
   ]
  },
  {
   "cell_type": "code",
   "execution_count": 273,
   "metadata": {},
   "outputs": [
    {
     "name": "stdout",
     "output_type": "stream",
     "text": [
      "Train on 50000 samples, validate on 10000 samples\n",
      "Epoch 1/15\n",
      "50000/50000 [==============================] - 40s 795us/step - loss: 0.3421 - acc: 0.9015 - val_loss: 0.1564 - val_acc: 0.9562\n",
      "Epoch 2/15\n",
      "50000/50000 [==============================] - 39s 782us/step - loss: 0.1434 - acc: 0.9559 - val_loss: 0.1179 - val_acc: 0.9653\n",
      "Epoch 3/15\n",
      "50000/50000 [==============================] - 40s 806us/step - loss: 0.1057 - acc: 0.9683 - val_loss: 0.0913 - val_acc: 0.9731\n",
      "Epoch 4/15\n",
      "50000/50000 [==============================] - 40s 802us/step - loss: 0.0843 - acc: 0.9739 - val_loss: 0.0839 - val_acc: 0.9760\n",
      "Epoch 5/15\n",
      "50000/50000 [==============================] - 41s 815us/step - loss: 0.0698 - acc: 0.9790 - val_loss: 0.0779 - val_acc: 0.9762\n",
      "Epoch 6/15\n",
      "50000/50000 [==============================] - 41s 822us/step - loss: 0.0607 - acc: 0.9817 - val_loss: 0.0821 - val_acc: 0.9748\n",
      "Epoch 7/15\n",
      "50000/50000 [==============================] - 40s 793us/step - loss: 0.0520 - acc: 0.9848 - val_loss: 0.0715 - val_acc: 0.9795\n",
      "Epoch 8/15\n",
      "50000/50000 [==============================] - 40s 793us/step - loss: 0.0464 - acc: 0.9856 - val_loss: 0.0658 - val_acc: 0.9809\n",
      "Epoch 9/15\n",
      "50000/50000 [==============================] - 40s 807us/step - loss: 0.0401 - acc: 0.9881 - val_loss: 0.0708 - val_acc: 0.9788\n",
      "Epoch 10/15\n",
      "50000/50000 [==============================] - 40s 807us/step - loss: 0.0350 - acc: 0.9896 - val_loss: 0.0632 - val_acc: 0.9791\n",
      "Epoch 11/15\n",
      "50000/50000 [==============================] - 40s 806us/step - loss: 0.0311 - acc: 0.9907 - val_loss: 0.0670 - val_acc: 0.9801\n",
      "Epoch 12/15\n",
      "50000/50000 [==============================] - 40s 791us/step - loss: 0.0286 - acc: 0.9916 - val_loss: 0.0587 - val_acc: 0.9818\n",
      "Epoch 13/15\n",
      "50000/50000 [==============================] - 41s 813us/step - loss: 0.0247 - acc: 0.9931 - val_loss: 0.0648 - val_acc: 0.9808\n",
      "Epoch 14/15\n",
      "50000/50000 [==============================] - 41s 825us/step - loss: 0.0221 - acc: 0.9939 - val_loss: 0.0583 - val_acc: 0.9834\n",
      "Epoch 15/15\n",
      "50000/50000 [==============================] - 41s 813us/step - loss: 0.0201 - acc: 0.9947 - val_loss: 0.0593 - val_acc: 0.9830\n"
     ]
    }
   ],
   "source": [
    "#Estimate the model\n",
    "epochs = 15\n",
    "h1C = model1C.fit(xtrain,ytrain, batch_size=10, epochs = epochs,validation_data = (xval,yval), callbacks=[annealer], verbose=1)"
   ]
  },
  {
   "cell_type": "code",
   "execution_count": 274,
   "metadata": {},
   "outputs": [
    {
     "name": "stdout",
     "output_type": "stream",
     "text": [
      "CNN AvgPool 1C: Epochs=15, Train accuracy=0.99470, Validation accuracy=0.98340\n"
     ]
    }
   ],
   "source": [
    "print(\"CNN AvgPool {0}: Epochs={1:d}, Train accuracy={2:.5f}, Validation accuracy={3:.5f}\".format(\"1C\",epochs,max(h1C.history['acc']),max(h1C.history['val_acc'])))"
   ]
  },
  {
   "cell_type": "code",
   "execution_count": 277,
   "metadata": {},
   "outputs": [],
   "source": [
    "# Add additional layers for convolution\n",
    "nets = 1\n",
    "model2C = [0]*nets\n",
    "\n",
    "model2C = Sequential()\n",
    "model2C.add(Conv2D(24,kernel_size=5,padding='same',activation='relu',\n",
    "            input_shape=(28,28,1)))\n",
    "model2C.add(MaxPool2D())\n",
    "model2C.add(Conv2D(48,kernel_size=5,padding='same',activation='relu'))\n",
    "model2C.add(MaxPool2D())\n",
    "model2C.add(Flatten())\n",
    "model2C.add(Dense(256, activation='relu'))\n",
    "model2C.add(Dense(10, activation='softmax'))\n",
    "model2C.compile(optimizer=\"SGD\", loss=\"categorical_crossentropy\", metrics=[\"accuracy\"])"
   ]
  },
  {
   "cell_type": "code",
   "execution_count": 278,
   "metadata": {},
   "outputs": [
    {
     "name": "stdout",
     "output_type": "stream",
     "text": [
      "Train on 50000 samples, validate on 10000 samples\n",
      "Epoch 1/15\n",
      "50000/50000 [==============================] - 89s 2ms/step - loss: 0.2381 - acc: 0.9289 - val_loss: 0.0797 - val_acc: 0.9768\n",
      "Epoch 2/15\n",
      "50000/50000 [==============================] - 90s 2ms/step - loss: 0.0705 - acc: 0.9780 - val_loss: 0.0692 - val_acc: 0.9786\n",
      "Epoch 3/15\n",
      "50000/50000 [==============================] - 91s 2ms/step - loss: 0.0491 - acc: 0.9842 - val_loss: 0.0506 - val_acc: 0.9843\n",
      "Epoch 4/15\n",
      "50000/50000 [==============================] - 91s 2ms/step - loss: 0.0383 - acc: 0.9879 - val_loss: 0.0460 - val_acc: 0.9857\n",
      "Epoch 5/15\n",
      "50000/50000 [==============================] - 92s 2ms/step - loss: 0.0320 - acc: 0.9896 - val_loss: 0.0490 - val_acc: 0.9845\n",
      "Epoch 6/15\n",
      "50000/50000 [==============================] - 93s 2ms/step - loss: 0.0253 - acc: 0.9920 - val_loss: 0.0447 - val_acc: 0.9859\n",
      "Epoch 7/15\n",
      "50000/50000 [==============================] - 94s 2ms/step - loss: 0.0209 - acc: 0.9936 - val_loss: 0.0420 - val_acc: 0.9870\n",
      "Epoch 8/15\n",
      "50000/50000 [==============================] - 95s 2ms/step - loss: 0.0174 - acc: 0.9946 - val_loss: 0.0380 - val_acc: 0.9893\n",
      "Epoch 9/15\n",
      "50000/50000 [==============================] - 94s 2ms/step - loss: 0.0153 - acc: 0.9954 - val_loss: 0.0348 - val_acc: 0.9905\n",
      "Epoch 10/15\n",
      "50000/50000 [==============================] - 94s 2ms/step - loss: 0.0121 - acc: 0.9965 - val_loss: 0.0358 - val_acc: 0.9900\n",
      "Epoch 11/15\n",
      "50000/50000 [==============================] - 95s 2ms/step - loss: 0.0104 - acc: 0.9973 - val_loss: 0.0348 - val_acc: 0.9903\n",
      "Epoch 12/15\n",
      "50000/50000 [==============================] - 93s 2ms/step - loss: 0.0085 - acc: 0.9977 - val_loss: 0.0373 - val_acc: 0.9901\n",
      "Epoch 13/15\n",
      "50000/50000 [==============================] - 93s 2ms/step - loss: 0.0074 - acc: 0.9980 - val_loss: 0.0386 - val_acc: 0.9900\n",
      "Epoch 14/15\n",
      "50000/50000 [==============================] - 95s 2ms/step - loss: 0.0064 - acc: 0.9985 - val_loss: 0.0401 - val_acc: 0.9890\n",
      "Epoch 15/15\n",
      "50000/50000 [==============================] - 93s 2ms/step - loss: 0.0055 - acc: 0.9985 - val_loss: 0.0365 - val_acc: 0.9896\n"
     ]
    }
   ],
   "source": [
    "#Estimate the model\n",
    "epochs = 15\n",
    "h2C = model2C.fit(xtrain,ytrain, batch_size=10, epochs = epochs,validation_data = (xval,yval), callbacks=[annealer], verbose=1)"
   ]
  },
  {
   "cell_type": "code",
   "execution_count": 279,
   "metadata": {},
   "outputs": [
    {
     "name": "stdout",
     "output_type": "stream",
     "text": [
      "CNN MaxPoolx2 2C: Epochs=15, Train accuracy=0.99854, Validation accuracy=0.99050\n"
     ]
    }
   ],
   "source": [
    "print(\"CNN MaxPoolx2 {0}: Epochs={1:d}, Train accuracy={2:.5f}, Validation accuracy={3:.5f}\".format(\"2C\",epochs,max(h2C.history['acc']),max(h2C.history['val_acc'])))"
   ]
  },
  {
   "cell_type": "markdown",
   "metadata": {},
   "source": [
    "### 2.3 Regularizing the Convolution Neural Network"
   ]
  },
  {
   "cell_type": "code",
   "execution_count": 282,
   "metadata": {},
   "outputs": [],
   "source": [
    "# Add additional layers for convolution\n",
    "nets = 1\n",
    "model3C = [0]*nets\n",
    "\n",
    "model3C = Sequential()\n",
    "model3C.add(Conv2D(24,kernel_size=5,padding='same',activation='relu',\n",
    "            input_shape=(28,28,1),kernel_regularizer=norm.l2(0.01)))\n",
    "model3C.add(MaxPool2D())\n",
    "model3C.add(Conv2D(48,kernel_size=5,padding='same',activation='relu',kernel_regularizer=norm.l2(0.05)))\n",
    "model3C.add(MaxPool2D())\n",
    "model3C.add(Flatten())\n",
    "model3C.add(Dense(256, activation='relu', kernel_regularizer=norm.l2(0.05)))\n",
    "model3C.add(Dense(10, activation='softmax'))\n",
    "model3C.compile(optimizer=\"SGD\", loss=\"categorical_crossentropy\", metrics=[\"accuracy\"])"
   ]
  },
  {
   "cell_type": "code",
   "execution_count": 283,
   "metadata": {},
   "outputs": [
    {
     "name": "stdout",
     "output_type": "stream",
     "text": [
      "Train on 50000 samples, validate on 10000 samples\n",
      "Epoch 1/15\n",
      "50000/50000 [==============================] - 112s 2ms/step - loss: 3.0811 - acc: 0.9016 - val_loss: 0.4823 - val_acc: 0.9371\n",
      "Epoch 2/15\n",
      "50000/50000 [==============================] - 110s 2ms/step - loss: 0.4481 - acc: 0.9472 - val_loss: 0.4001 - val_acc: 0.9601\n",
      "Epoch 3/15\n",
      "50000/50000 [==============================] - 111s 2ms/step - loss: 0.4198 - acc: 0.9510 - val_loss: 0.3782 - val_acc: 0.9625\n",
      "Epoch 4/15\n",
      "50000/50000 [==============================] - 111s 2ms/step - loss: 0.4012 - acc: 0.9524 - val_loss: 0.3637 - val_acc: 0.9660\n",
      "Epoch 5/15\n",
      "50000/50000 [==============================] - 112s 2ms/step - loss: 0.3880 - acc: 0.9548 - val_loss: 0.3567 - val_acc: 0.9661\n",
      "Epoch 6/15\n",
      "50000/50000 [==============================] - 110s 2ms/step - loss: 0.3776 - acc: 0.9553 - val_loss: 0.3581 - val_acc: 0.9597\n",
      "Epoch 7/15\n",
      "50000/50000 [==============================] - 111s 2ms/step - loss: 0.3691 - acc: 0.9559 - val_loss: 0.3457 - val_acc: 0.9640\n",
      "Epoch 8/15\n",
      "50000/50000 [==============================] - 110s 2ms/step - loss: 0.3598 - acc: 0.9576 - val_loss: 0.3294 - val_acc: 0.9668\n",
      "Epoch 9/15\n",
      "50000/50000 [==============================] - 113s 2ms/step - loss: 0.3511 - acc: 0.9580 - val_loss: 0.3695 - val_acc: 0.9516\n",
      "Epoch 10/15\n",
      "50000/50000 [==============================] - 119s 2ms/step - loss: 0.3465 - acc: 0.9595 - val_loss: 0.3365 - val_acc: 0.9632\n",
      "Epoch 11/15\n",
      "50000/50000 [==============================] - 124s 2ms/step - loss: 0.3407 - acc: 0.9596 - val_loss: 0.3413 - val_acc: 0.9627\n",
      "Epoch 12/15\n",
      "50000/50000 [==============================] - 123s 2ms/step - loss: 0.3361 - acc: 0.9603 - val_loss: 0.3361 - val_acc: 0.9621\n",
      "Epoch 13/15\n",
      "50000/50000 [==============================] - 124s 2ms/step - loss: 0.3311 - acc: 0.9611 - val_loss: 0.3007 - val_acc: 0.9726\n",
      "Epoch 14/15\n",
      "50000/50000 [==============================] - 121s 2ms/step - loss: 0.3262 - acc: 0.9624 - val_loss: 0.3040 - val_acc: 0.9713\n",
      "Epoch 15/15\n",
      "50000/50000 [==============================] - 111s 2ms/step - loss: 0.3212 - acc: 0.9634 - val_loss: 0.2926 - val_acc: 0.9726\n"
     ]
    }
   ],
   "source": [
    "#Estimate the model\n",
    "epochs = 15\n",
    "h3C = model3C.fit(xtrain,ytrain, batch_size=10, epochs = epochs,validation_data = (xval,yval), callbacks=[annealer], verbose=1)"
   ]
  },
  {
   "cell_type": "code",
   "execution_count": 285,
   "metadata": {},
   "outputs": [
    {
     "name": "stdout",
     "output_type": "stream",
     "text": [
      "CNN MaxPoolx2xR 3C: Epochs=15, Train accuracy=0.96344, Validation accuracy=0.97260\n"
     ]
    }
   ],
   "source": [
    "print(\"CNN MaxPoolx2xR {0}: Epochs={1:d}, Train accuracy={2:.5f}, Validation accuracy={3:.5f}\".format(\"3C\",epochs,max(h3C.history['acc']),max(h3C.history['val_acc'])))"
   ]
  },
  {
   "cell_type": "markdown",
   "metadata": {},
   "source": [
    "### 2.5 Implementing Dropout"
   ]
  },
  {
   "cell_type": "code",
   "execution_count": 286,
   "metadata": {},
   "outputs": [],
   "source": [
    "#Instead of regularization try dropout\n",
    "d=0.2\n",
    "nets = 1\n",
    "model4C = [0]*nets\n",
    "\n",
    "model4C = Sequential()\n",
    "model4C.add(Conv2D(24,kernel_size=5,padding='same',activation='relu',\n",
    "            input_shape=(28,28,1)))\n",
    "model4C.add(MaxPool2D())\n",
    "model4C.add(Dropout(d))\n",
    "model4C.add(Conv2D(48,kernel_size=5,padding='same',activation='relu'))\n",
    "model4C.add(MaxPool2D())\n",
    "model4C.add(Dropout(d))\n",
    "model4C.add(Flatten())\n",
    "model4C.add(Dense(256, activation='relu'))\n",
    "model4C.add(Dropout(d))\n",
    "model4C.add(Dense(10, activation='softmax'))\n",
    "model4C.compile(optimizer=\"SGD\", loss=\"categorical_crossentropy\", metrics=[\"accuracy\"])"
   ]
  },
  {
   "cell_type": "code",
   "execution_count": 287,
   "metadata": {},
   "outputs": [
    {
     "name": "stdout",
     "output_type": "stream",
     "text": [
      "Train on 50000 samples, validate on 10000 samples\n",
      "Epoch 1/15\n",
      "50000/50000 [==============================] - 114s 2ms/step - loss: 0.3126 - acc: 0.9009 - val_loss: 0.0805 - val_acc: 0.9777\n",
      "Epoch 2/15\n",
      "50000/50000 [==============================] - 108s 2ms/step - loss: 0.1034 - acc: 0.9674 - val_loss: 0.0593 - val_acc: 0.9816\n",
      "Epoch 3/15\n",
      "50000/50000 [==============================] - 109s 2ms/step - loss: 0.0743 - acc: 0.9765 - val_loss: 0.0534 - val_acc: 0.9851\n",
      "Epoch 4/15\n",
      "50000/50000 [==============================] - 109s 2ms/step - loss: 0.0623 - acc: 0.9795 - val_loss: 0.0482 - val_acc: 0.9864\n",
      "Epoch 5/15\n",
      "50000/50000 [==============================] - 108s 2ms/step - loss: 0.0559 - acc: 0.9821 - val_loss: 0.0420 - val_acc: 0.9884\n",
      "Epoch 6/15\n",
      "50000/50000 [==============================] - 109s 2ms/step - loss: 0.0471 - acc: 0.9848 - val_loss: 0.0371 - val_acc: 0.9894\n",
      "Epoch 7/15\n",
      "50000/50000 [==============================] - 111s 2ms/step - loss: 0.0442 - acc: 0.9857 - val_loss: 0.0383 - val_acc: 0.9888\n",
      "Epoch 8/15\n",
      "50000/50000 [==============================] - 152s 3ms/step - loss: 0.0383 - acc: 0.9878 - val_loss: 0.0356 - val_acc: 0.9902\n",
      "Epoch 9/15\n",
      "50000/50000 [==============================] - 207s 4ms/step - loss: 0.0355 - acc: 0.9887 - val_loss: 0.0345 - val_acc: 0.9905\n",
      "Epoch 10/15\n",
      "50000/50000 [==============================] - 211s 4ms/step - loss: 0.0324 - acc: 0.9896 - val_loss: 0.0355 - val_acc: 0.9898\n",
      "Epoch 11/15\n",
      "50000/50000 [==============================] - 191s 4ms/step - loss: 0.0315 - acc: 0.9898 - val_loss: 0.0313 - val_acc: 0.9909\n",
      "Epoch 12/15\n",
      "50000/50000 [==============================] - 191s 4ms/step - loss: 0.0305 - acc: 0.9898 - val_loss: 0.0304 - val_acc: 0.9912\n",
      "Epoch 13/15\n",
      "50000/50000 [==============================] - 191s 4ms/step - loss: 0.0281 - acc: 0.9910 - val_loss: 0.0310 - val_acc: 0.9913\n",
      "Epoch 14/15\n",
      "50000/50000 [==============================] - 187s 4ms/step - loss: 0.0271 - acc: 0.9915 - val_loss: 0.0304 - val_acc: 0.9911\n",
      "Epoch 15/15\n",
      "50000/50000 [==============================] - 185s 4ms/step - loss: 0.0248 - acc: 0.9917 - val_loss: 0.0306 - val_acc: 0.9913\n"
     ]
    }
   ],
   "source": [
    "#Estimate the model\n",
    "epochs = 15\n",
    "h4C = model4C.fit(xtrain,ytrain, batch_size=10, epochs = epochs,validation_data = (xval,yval), callbacks=[annealer], verbose=1)"
   ]
  },
  {
   "cell_type": "code",
   "execution_count": 290,
   "metadata": {},
   "outputs": [
    {
     "name": "stdout",
     "output_type": "stream",
     "text": [
      "CNN MaxPoolx2xD 4C: Epochs=15, Train accuracy=0.99168, Validation accuracy=0.99130\n"
     ]
    }
   ],
   "source": [
    "print(\"CNN MaxPoolx2xD {0}: Epochs={1:d}, Train accuracy={2:.5f}, Validation accuracy={3:.5f}\".format(\"4C\",epochs,max(h4C.history['acc']),max(h4C.history['val_acc'])))"
   ]
  },
  {
   "cell_type": "code",
   "execution_count": 289,
   "metadata": {},
   "outputs": [
    {
     "data": {
      "image/png": "[encoded data removed]",
      "text/plain": [
       "<Figure size 1080x360 with 1 Axes>"
      ]
     },
     "metadata": {
      "needs_background": "light"
     },
     "output_type": "display_data"
    }
   ],
   "source": [
    "name=['NN2-Re-Re','CNN-1Max','CNN-1Avg','CNN-2Max', 'CNN-2MaxR','CNN-2MaxD']\n",
    "# PLOT ACCURACIES\n",
    "plt.figure(figsize=(15,5))\n",
    "plt.plot(h3.history['val_acc'],linestyle=styles[0])\n",
    "plt.plot(history.history['val_acc'],linestyle=styles[1])\n",
    "plt.plot(h1C.history['val_acc'],linestyle=styles[2])\n",
    "plt.plot(h2C.history['val_acc'],linestyle=styles[3])\n",
    "plt.plot(h3C.history['val_acc'],linestyle=styles[4])\n",
    "plt.plot(h4C.history['val_acc'],linestyle=styles[0])\n",
    "plt.title('Model accuracy for CNN with Regularization')\n",
    "plt.ylabel('accuracy')\n",
    "plt.xlabel('epoch')\n",
    "plt.legend(name, loc='upper left')\n",
    "axes = plt.gca()\n",
    "axes.set_ylim([0.92,1])\n",
    "plt.show()"
   ]
  },
  {
   "cell_type": "markdown",
   "metadata": {},
   "source": [
    "We see some interesting results above: \n",
    "- Conventional Neural Networks with 2 layers of max pooling with 20% Dropout (Model 4C) is the best performing model\n",
    "- Conventional Neural Networks with 2 layers of max pooling (Model 2C) is second best performing model\n",
    "- Regularization for these images do not seem to work too well as seen by the model (CNN - 2Max R); it is the same model as the one above, but with l2 norm regularization\n",
    "- The simple two dense layer model with Relu activation does hold its own\n"
   ]
  },
  {
   "cell_type": "markdown",
   "metadata": {},
   "source": [
    "### 3.0 Model Evaluation"
   ]
  },
  {
   "cell_type": "code",
   "execution_count": 291,
   "metadata": {},
   "outputs": [],
   "source": [
    "#select the image and the label\n",
    "xtest=[t[0] for t in test]\n",
    "ytest=[t[1] for t in test]"
   ]
  },
  {
   "cell_type": "code",
   "execution_count": 292,
   "metadata": {},
   "outputs": [],
   "source": [
    "#convert to numpy format\n",
    "xtest=np.asarray(xtest)\n",
    "ytr_cat=to_categorical(ytest,num_classes=10)"
   ]
  },
  {
   "cell_type": "code",
   "execution_count": 509,
   "metadata": {},
   "outputs": [],
   "source": [
    "#predict from Model 4C\n",
    "p4C=model4C.predict(xtest)"
   ]
  },
  {
   "cell_type": "code",
   "execution_count": 510,
   "metadata": {},
   "outputs": [],
   "source": [
    "#predict from Model 3\n",
    "p3=model3.predict(xtest)"
   ]
  },
  {
   "cell_type": "code",
   "execution_count": 524,
   "metadata": {},
   "outputs": [],
   "source": [
    "#predict from Model 6\n",
    "p6=model6.predict(xtest)"
   ]
  },
  {
   "cell_type": "code",
   "execution_count": 570,
   "metadata": {},
   "outputs": [],
   "source": [
    "def label_eval(pred,tru):\n",
    "    num=np.arange(0,10)\n",
    "    ind=[]\n",
    "    lab=[]\n",
    "    t=[]\n",
    "    for i in np.arange(len(pred)):\n",
    "        lab.append(pred[i].argmax())\n",
    "        t.append(tru[i])\n",
    "        ind.append(i)\n",
    "    res=pd.DataFrame({'index':ind,'pred':lab,'truth':t})\n",
    "    res['eval']=0\n",
    "    res.loc[res['pred'] != res['truth'], 'eval'] = 1\n",
    "    return (res)"
   ]
  },
  {
   "cell_type": "code",
   "execution_count": 571,
   "metadata": {},
   "outputs": [],
   "source": [
    "#label evaluation for Model 4C\n",
    "l4C=label_eval(p4C,ytest)"
   ]
  },
  {
   "cell_type": "code",
   "execution_count": 572,
   "metadata": {},
   "outputs": [],
   "source": [
    "#label evaluation for Model 3\n",
    "l3=label_eval(p3,ytest)"
   ]
  },
  {
   "cell_type": "code",
   "execution_count": 573,
   "metadata": {},
   "outputs": [],
   "source": [
    "#label evaluation for Model 6\n",
    "l6=label_eval(p6,ytest)"
   ]
  },
  {
   "cell_type": "code",
   "execution_count": 753,
   "metadata": {},
   "outputs": [
    {
     "data": {
      "text/html": [
       "<div>\n",
       "<style scoped>\n",
       "    .dataframe tbody tr th:only-of-type {\n",
       "        vertical-align: middle;\n",
       "    }\n",
       "\n",
       "    .dataframe tbody tr th {\n",
       "        vertical-align: top;\n",
       "    }\n",
       "\n",
       "    .dataframe thead th {\n",
       "        text-align: right;\n",
       "    }\n",
       "</style>\n",
       "<table border=\"1\" class=\"dataframe\">\n",
       "  <thead>\n",
       "    <tr style=\"text-align: right;\">\n",
       "      <th></th>\n",
       "      <th>index</th>\n",
       "      <th>pred</th>\n",
       "      <th>truth</th>\n",
       "      <th>eval</th>\n",
       "    </tr>\n",
       "  </thead>\n",
       "  <tbody>\n",
       "    <tr>\n",
       "      <td>0</td>\n",
       "      <td>0</td>\n",
       "      <td>7</td>\n",
       "      <td>7</td>\n",
       "      <td>0</td>\n",
       "    </tr>\n",
       "    <tr>\n",
       "      <td>1</td>\n",
       "      <td>1</td>\n",
       "      <td>2</td>\n",
       "      <td>2</td>\n",
       "      <td>0</td>\n",
       "    </tr>\n",
       "    <tr>\n",
       "      <td>2</td>\n",
       "      <td>2</td>\n",
       "      <td>1</td>\n",
       "      <td>1</td>\n",
       "      <td>0</td>\n",
       "    </tr>\n",
       "    <tr>\n",
       "      <td>3</td>\n",
       "      <td>3</td>\n",
       "      <td>0</td>\n",
       "      <td>0</td>\n",
       "      <td>0</td>\n",
       "    </tr>\n",
       "    <tr>\n",
       "      <td>4</td>\n",
       "      <td>4</td>\n",
       "      <td>4</td>\n",
       "      <td>4</td>\n",
       "      <td>0</td>\n",
       "    </tr>\n",
       "  </tbody>\n",
       "</table>\n",
       "</div>"
      ],
      "text/plain": [
       "   index  pred  truth  eval\n",
       "0      0     7      7     0\n",
       "1      1     2      2     0\n",
       "2      2     1      1     0\n",
       "3      3     0      0     0\n",
       "4      4     4      4     0"
      ]
     },
     "execution_count": 753,
     "metadata": {},
     "output_type": "execute_result"
    }
   ],
   "source": [
    "l6[0:5]"
   ]
  },
  {
   "cell_type": "code",
   "execution_count": 581,
   "metadata": {},
   "outputs": [
    {
     "data": {
      "text/plain": [
       "80"
      ]
     },
     "execution_count": 581,
     "metadata": {},
     "output_type": "execute_result"
    }
   ],
   "source": [
    "#number of errors on the test set for Model 4C\n",
    "len(l4C.loc[l4C['eval']==1,])"
   ]
  },
  {
   "cell_type": "code",
   "execution_count": 582,
   "metadata": {},
   "outputs": [],
   "source": [
    "l4C_errors=l4C.loc[l4C['eval']==1,]"
   ]
  },
  {
   "cell_type": "code",
   "execution_count": 583,
   "metadata": {},
   "outputs": [
    {
     "data": {
      "text/plain": [
       "212"
      ]
     },
     "execution_count": 583,
     "metadata": {},
     "output_type": "execute_result"
    }
   ],
   "source": [
    "#number of errors on the test for Model 3\n",
    "len(l3.loc[l3['eval']==1,])"
   ]
  },
  {
   "cell_type": "code",
   "execution_count": 755,
   "metadata": {},
   "outputs": [],
   "source": [
    "#filter out all errors for Model 3\n",
    "l3_errors=l3.loc[l3['eval']==1,]"
   ]
  },
  {
   "cell_type": "code",
   "execution_count": 585,
   "metadata": {},
   "outputs": [
    {
     "data": {
      "text/plain": [
       "576"
      ]
     },
     "execution_count": 585,
     "metadata": {},
     "output_type": "execute_result"
    }
   ],
   "source": [
    "#number of errors on the test set for Model 6\n",
    "len(l6.loc[l6['eval']==1,])"
   ]
  },
  {
   "cell_type": "code",
   "execution_count": 750,
   "metadata": {},
   "outputs": [],
   "source": [
    "#filter out all the errors for Model 6\n",
    "l6_errors=l6.loc[l6['eval']==1,]"
   ]
  },
  {
   "cell_type": "code",
   "execution_count": 743,
   "metadata": {},
   "outputs": [],
   "source": [
    "def mnist_plot_mult(image, xi,yi,pred,tr):\n",
    "    fig = plt.figure()\n",
    "    for i in np.arange(1,xi+1):\n",
    "        for j in np.arange(1,yi+1):\n",
    "            b=image[(i-1)*(j-1)].reshape(-1, 28) #reshape to 28 by 28 image\n",
    "            ax = fig.add_subplot(xi,yi, yi*(i-1)+j)\n",
    "            ax.matshow(b, cmap = matplotlib.cm.binary)\n",
    "            ax.set_title('P=%s,A=%s' %(pred[yi*(i-1)+j-1],tr[yi*(i-1)+j-1]))\n",
    "            plt.xticks(np.array([]))\n",
    "            plt.yticks(np.array([]))\n",
    "    plt.show()"
   ]
  },
  {
   "cell_type": "code",
   "execution_count": 731,
   "metadata": {},
   "outputs": [
    {
     "data": {
      "text/plain": [
       "[445,\n",
       " 582,\n",
       " 619,\n",
       " 684,\n",
       " 720,\n",
       " 924,\n",
       " 947,\n",
       " 1014,\n",
       " 1039,\n",
       " 1112,\n",
       " 1226,\n",
       " 1247,\n",
       " 1260,\n",
       " 1319,\n",
       " 1393]"
      ]
     },
     "execution_count": 731,
     "metadata": {},
     "output_type": "execute_result"
    }
   ],
   "source": [
    "list(l4C_errors['index'].head(n=15))"
   ]
  },
  {
   "cell_type": "markdown",
   "metadata": {},
   "source": [
    "#### Model 4C: CNN with Dropout (best performing model)"
   ]
  },
  {
   "cell_type": "code",
   "execution_count": 747,
   "metadata": {},
   "outputs": [
    {
     "data": {
      "image/png": "[encoded data removed]",
      "text/plain": [
       "<Figure size 432x288 with 15 Axes>"
      ]
     },
     "metadata": {},
     "output_type": "display_data"
    }
   ],
   "source": [
    "#Model 4C errors \n",
    "mnist_plot_mult(xtest[list(l4C_errors['index'].head(n=15))],3,5,list(l4C_errors['pred'].head(n=15)),list(l4C_errors['truth'].head(n=15)))"
   ]
  },
  {
   "cell_type": "markdown",
   "metadata": {},
   "source": [
    "#### Model 6 Errors: Neural Network with Regularization"
   ]
  },
  {
   "cell_type": "code",
   "execution_count": 752,
   "metadata": {},
   "outputs": [
    {
     "data": {
      "image/png": "[encoded data removed]",
      "text/plain": [
       "<Figure size 432x288 with 15 Axes>"
      ]
     },
     "metadata": {},
     "output_type": "display_data"
    }
   ],
   "source": [
    "#Model 6 errors \n",
    "mnist_plot_mult(xtest[list(l6_errors['index'].head(n=15))],3,5,list(l6_errors['pred'].head(n=15)),list(l6_errors['truth'].head(n=15)))"
   ]
  },
  {
   "cell_type": "code",
   "execution_count": 754,
   "metadata": {},
   "outputs": [
    {
     "data": {
      "image/png": "[encoded data removed]",
      "text/plain": [
       "<Figure size 432x288 with 15 Axes>"
      ]
     },
     "metadata": {},
     "output_type": "display_data"
    }
   ],
   "source": [
    "#Model 6 errors \n",
    "mnist_plot_mult(xtest[list(l6_errors['index'].tail(n=15))],3,5,list(l6_errors['pred'].tail(n=15)),list(l6_errors['truth'].tail(n=15)))"
   ]
  },
  {
   "cell_type": "markdown",
   "metadata": {},
   "source": [
    "#### Model 3C: Two Dense layer, Neural Nework with ReLu Activiation functions"
   ]
  },
  {
   "cell_type": "code",
   "execution_count": 756,
   "metadata": {},
   "outputs": [
    {
     "data": {
      "image/png": "[encoded data removed]",
      "text/plain": [
       "<Figure size 432x288 with 15 Axes>"
      ]
     },
     "metadata": {},
     "output_type": "display_data"
    }
   ],
   "source": [
    "#Model 6 errors \n",
    "mnist_plot_mult(xtest[list(l3_errors['index'].tail(n=15))],3,5,list(l3_errors['pred'].tail(n=15)),list(l3_errors['truth'].tail(n=15)))"
   ]
  },
  {
   "cell_type": "markdown",
   "metadata": {},
   "source": [
    "#### References\n",
    "https://www.kaggle.com/cdeotte/how-to-choose-cnn-architecture-mnist\n",
    "\n",
    "http://neuralnetworksanddeeplearning.com"
   ]
  }
 ],
 "metadata": {
  "kernelspec": {
   "display_name": "Python 3",
   "language": "python",
   "name": "python3"
  },
  "language_info": {
   "codemirror_mode": {
    "name": "ipython",
    "version": 3
   },
   "file_extension": ".py",
   "mimetype": "text/x-python",
   "name": "python",
   "nbconvert_exporter": "python",
   "pygments_lexer": "ipython3",
   "version": "3.6.9"
  }
 },
 "nbformat": 4,
 "nbformat_minor": 2
}
